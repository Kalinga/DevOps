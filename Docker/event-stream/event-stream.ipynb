{
 "cells": [
  {
   "cell_type": "markdown",
   "metadata": {},
   "source": [
    "## Step 0: Install docker and place sudo password in ~/.sudopassword"
   ]
  },
  {
   "cell_type": "markdown",
   "metadata": {},
   "source": [
    "### Removed previous run containers"
   ]
  },
  {
   "cell_type": "code",
   "execution_count": 27,
   "metadata": {},
   "outputs": [
    {
     "name": "stdout",
     "output_type": "stream",
     "text": [
      "[sudo] password for kalinga: Error: No such container: zookeeper-server\n",
      "[sudo] password for kalinga: Error: No such container: kafka-server\n",
      "[sudo] password for kalinga: Error: No such container: event-stream\n",
      "[sudo] password for kalinga: Error: No such network: app-tier\n"
     ]
    }
   ],
   "source": [
    "!sudo -S docker rm /zookeeper-server < ~/.sudopassword\n",
    "!sudo -S docker rm /kafka-server < ~/.sudopassword\n",
    "!sudo -S docker rm /event-stream < ~/.sudopassword\n",
    "!sudo -S docker network rm app-tier < ~/.sudopassword"
   ]
  },
  {
   "cell_type": "markdown",
   "metadata": {},
   "source": [
    "## Step 1: Create a network"
   ]
  },
  {
   "cell_type": "code",
   "execution_count": 28,
   "metadata": {},
   "outputs": [
    {
     "name": "stdout",
     "output_type": "stream",
     "text": [
      "[sudo] password for kalinga: 8ce090061d34f7f570f31ea4fd963fedc611395db9ebb865ca679432a81567b7\n"
     ]
    }
   ],
   "source": [
    "!sudo -S docker network create app-tier --driver bridge < ~/.sudopassword"
   ]
  },
  {
   "cell_type": "markdown",
   "metadata": {},
   "source": [
    "## Step 2: Launch the Zookeeper server instance"
   ]
  },
  {
   "cell_type": "code",
   "execution_count": 29,
   "metadata": {},
   "outputs": [
    {
     "name": "stdout",
     "output_type": "stream",
     "text": [
      "[sudo] password for kalinga: d64933adb807683cb02ab9d6857e343f57ffa42fe8a72e2f8082b31eecd9914c\n"
     ]
    }
   ],
   "source": [
    "!sudo -S  docker run -d --name zookeeper-server --network app-tier -e ALLOW_ANONYMOUS_LOGIN=yes bitnami/zookeeper:latest < ~/.sudopassword"
   ]
  },
  {
   "cell_type": "markdown",
   "metadata": {},
   "source": [
    "## Step 3: Launch the Kafka server instance"
   ]
  },
  {
   "cell_type": "code",
   "execution_count": 30,
   "metadata": {},
   "outputs": [
    {
     "name": "stdout",
     "output_type": "stream",
     "text": [
      "[sudo] password for kalinga: 055ddb350b3ec8292e4372b9f052fb299049835890aa26261bc154e8046eba94\n"
     ]
    }
   ],
   "source": [
    "!sudo -S docker run -d --name kafka-server \\\n",
    "    --network app-tier \\\n",
    "    -e ALLOW_PLAINTEXT_LISTENER=yes \\\n",
    "    -e KAFKA_CFG_ZOOKEEPER_CONNECT=zookeeper-server:2181 \\\n",
    "    bitnami/kafka:latest < ~/.sudopassword"
   ]
  },
  {
   "cell_type": "markdown",
   "metadata": {},
   "source": [
    "## Step 4: Launch event-stream  instance"
   ]
  },
  {
   "cell_type": "code",
   "execution_count": 31,
   "metadata": {},
   "outputs": [
    {
     "name": "stdout",
     "output_type": "stream",
     "text": [
      "[sudo] password for kalinga: Sending build context to Docker daemon  39.42kB\n",
      "Step 1/8 : FROM python:3\n",
      " ---> b162b5322f1c\n",
      "Step 2/8 : LABEL Author=\"Kalinga Bhusan Ray\"\n",
      " ---> Using cache\n",
      " ---> 55e95b0d90db\n",
      "Step 3/8 : LABEL E-Mail=\"kalinga-bhusan.ray@tu-ilmenau.de\"\n",
      " ---> Using cache\n",
      " ---> 5e490150ac8b\n",
      "Step 4/8 : LABEL Desc=\"This is an image for event stream engiene\"\n",
      " ---> Using cache\n",
      " ---> 430a9dc7ecdd\n",
      "Step 5/8 : RUN apt-get update &&     apt-get install -y vim\n",
      " ---> Using cache\n",
      " ---> 63f97c80a8c5\n",
      "Step 6/8 : ADD process_event_stream.py /\n",
      " ---> Using cache\n",
      " ---> e1d9d77b1ff4\n",
      "Step 7/8 : RUN pip install faust typing_extensions\n",
      " ---> Using cache\n",
      " ---> 4ffa844c6546\n",
      "Step 8/8 : EXPOSE 80\n",
      " ---> Using cache\n",
      " ---> f1ad588d40d8\n",
      "Successfully built f1ad588d40d8\n",
      "Successfully tagged kalinga/event-stream:v0.1\n"
     ]
    }
   ],
   "source": [
    "!sudo -S docker build -t kalinga/event-stream:v0.1 . < ~/.sudopassword"
   ]
  },
  {
   "cell_type": "code",
   "execution_count": 38,
   "metadata": {},
   "outputs": [
    {
     "name": "stdout",
     "output_type": "stream",
     "text": [
      "[sudo] password for kalinga: c9967c731f8ff46d4a85fbb985b66b58028b6cf8f8a2b32e8f03683fee042089\n"
     ]
    }
   ],
   "source": [
    "!sudo -S docker run -it -d --name event-stream \\\n",
    "    --network app-tier \\\n",
    "    kalinga/event-stream:v0.1 /bin/bash < ~/.sudopassword"
   ]
  },
  {
   "cell_type": "code",
   "execution_count": 39,
   "metadata": {},
   "outputs": [
    {
     "name": "stdout",
     "output_type": "stream",
     "text": [
      "[sudo] password for kalinga: CONTAINER ID        IMAGE                       COMMAND                  CREATED             STATUS              PORTS                                    NAMES\n",
      "c9967c731f8f        kalinga/event-stream:v0.1   \"/bin/bash\"              17 seconds ago      Up 3 seconds        80/tcp                                   event-stream\n",
      "055ddb350b3e        bitnami/kafka:latest        \"/entrypoint.sh /run…\"   11 minutes ago      Up 11 minutes       9092/tcp                                 kafka-server\n",
      "d64933adb807        bitnami/zookeeper:latest    \"/entrypoint.sh /run…\"   11 minutes ago      Up 11 minutes       2181/tcp, 2888/tcp, 3888/tcp, 8080/tcp   zookeeper-server\n"
     ]
    }
   ],
   "source": [
    "!sudo -S docker ps  < ~/.sudopassword"
   ]
  },
  {
   "cell_type": "code",
   "execution_count": 33,
   "metadata": {},
   "outputs": [
    {
     "name": "stdout",
     "output_type": "stream",
     "text": [
      "Dockerfile\t    operations\t\t     README.md\r\n",
      "event-stream.ipynb  process_event_stream.py  test.py\r\n"
     ]
    }
   ],
   "source": [
    "!ls"
   ]
  },
  {
   "cell_type": "markdown",
   "metadata": {},
   "source": [
    "#### [In terminal]\n",
    "docker exec -it event-stream bash   \n",
    "docker exec -it kafka-server bash \n"
   ]
  },
  {
   "cell_type": "code",
   "execution_count": null,
   "metadata": {},
   "outputs": [],
   "source": [
    "kafka-console-producer.sh --broker-list 127.0.0.1:9092 --topic transaction --producer.config /opt/bitnami/kafka/conf/producer.properties\n"
   ]
  },
  {
   "cell_type": "code",
   "execution_count": null,
   "metadata": {},
   "outputs": [],
   "source": [
    "!sudo -S docker cp event-stream:/process_event_stream.py . < ~/.sudopassword"
   ]
  },
  {
   "cell_type": "code",
   "execution_count": 7,
   "metadata": {},
   "outputs": [
    {
     "name": "stdout",
     "output_type": "stream",
     "text": [
      "[sudo] password for kalinga: /zookeeper-server\n",
      "[sudo] password for kalinga: /kafka-server\n",
      "[sudo] password for kalinga: /event-stream\n"
     ]
    }
   ],
   "source": [
    "!sudo -S docker start /zookeeper-server < ~/.sudopassword\n",
    "!sudo -S docker start /kafka-server < ~/.sudopassword\n",
    "!sudo -S docker start /event-stream < ~/.sudopassword"
   ]
  },
  {
   "cell_type": "code",
   "execution_count": 9,
   "metadata": {},
   "outputs": [],
   "source": [
    "#!sudo -S docker container ls --all < ~/.sudopassword"
   ]
  },
  {
   "cell_type": "code",
   "execution_count": 11,
   "metadata": {},
   "outputs": [
    {
     "name": "stdout",
     "output_type": "stream",
     "text": [
      "[sudo] password for kalinga: CONTAINER ID        IMAGE                       COMMAND                  CREATED             STATUS              PORTS                                    NAMES\n",
      "c9967c731f8f        kalinga/event-stream:v0.1   \"/bin/bash\"              4 hours ago         Up 2 minutes        80/tcp                                   event-stream\n",
      "055ddb350b3e        bitnami/kafka:latest        \"/entrypoint.sh /run…\"   4 hours ago         Up 2 minutes        9092/tcp                                 kafka-server\n",
      "d64933adb807        bitnami/zookeeper:latest    \"/entrypoint.sh /run…\"   4 hours ago         Up 2 minutes        2181/tcp, 2888/tcp, 3888/tcp, 8080/tcp   zookeeper-server\n"
     ]
    }
   ],
   "source": [
    "!sudo -S docker ps < ~/.sudopassword"
   ]
  },
  {
   "cell_type": "code",
   "execution_count": null,
   "metadata": {},
   "outputs": [],
   "source": []
  }
 ],
 "metadata": {
  "kernelspec": {
   "display_name": "Python 3",
   "language": "python",
   "name": "python3"
  },
  "language_info": {
   "codemirror_mode": {
    "name": "ipython",
    "version": 3
   },
   "file_extension": ".py",
   "mimetype": "text/x-python",
   "name": "python",
   "nbconvert_exporter": "python",
   "pygments_lexer": "ipython3",
   "version": "3.7.3"
  }
 },
 "nbformat": 4,
 "nbformat_minor": 2
}
