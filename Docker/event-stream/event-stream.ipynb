{
 "cells": [
  {
   "cell_type": "markdown",
   "metadata": {},
   "source": [
    "## Step 0: Install docker and place sudo password in ~/.sudopassword"
   ]
  },
  {
   "cell_type": "markdown",
   "metadata": {},
   "source": [
    "### Removed previous run containers (Skip when starting for first time)"
   ]
  },
  {
   "cell_type": "code",
   "execution_count": 10,
   "metadata": {},
   "outputs": [
    {
     "name": "stdout",
     "output_type": "stream",
     "text": [
      "[sudo] password for kalinga: /zookeeper-server\n",
      "[sudo] password for kalinga: /kafka-server\n",
      "[sudo] password for kalinga: /event-stream\n",
      "[sudo] password for kalinga: app-tier\n"
     ]
    }
   ],
   "source": [
    "!sudo -S docker rm /zookeeper-server < ~/.sudopassword\n",
    "!sudo -S docker rm /kafka-server < ~/.sudopassword\n",
    "!sudo -S docker rm /event-stream < ~/.sudopassword\n",
    "!sudo -S docker network rm app-tier < ~/.sudopassword"
   ]
  },
  {
   "cell_type": "markdown",
   "metadata": {},
   "source": [
    "## Step 1: Create a network"
   ]
  },
  {
   "cell_type": "code",
   "execution_count": 11,
   "metadata": {},
   "outputs": [
    {
     "name": "stdout",
     "output_type": "stream",
     "text": [
      "[sudo] password for kalinga: c3a62d975ed2a66bf7249ad7ad3ccd6211925a99ec07ec3ef3c8436b09eda3b7\n"
     ]
    }
   ],
   "source": [
    "!sudo -S docker network create app-tier --driver bridge < ~/.sudopassword"
   ]
  },
  {
   "cell_type": "markdown",
   "metadata": {},
   "source": [
    "## Step 2: Launch the Zookeeper server instance"
   ]
  },
  {
   "cell_type": "code",
   "execution_count": 12,
   "metadata": {},
   "outputs": [
    {
     "name": "stdout",
     "output_type": "stream",
     "text": [
      "[sudo] password for kalinga: c17d29a774368f71bca2e39f9a1779e2982abcb59fc0e152e89836eef7c75052\n"
     ]
    }
   ],
   "source": [
    "!sudo -S  docker run -d --name zookeeper-server --network app-tier -e ALLOW_ANONYMOUS_LOGIN=yes bitnami/zookeeper:latest < ~/.sudopassword"
   ]
  },
  {
   "cell_type": "markdown",
   "metadata": {},
   "source": [
    "## Step 3: Launch the Kafka server instance"
   ]
  },
  {
   "cell_type": "code",
   "execution_count": 13,
   "metadata": {},
   "outputs": [
    {
     "name": "stdout",
     "output_type": "stream",
     "text": [
      "[sudo] password for kalinga: 502b6f7dadd232581b57b547558262bb00051a742b0c2e077c7699ced666d56a\n"
     ]
    }
   ],
   "source": [
    "!sudo -S docker run -d --name kafka-server \\\n",
    "    --network app-tier \\\n",
    "    -e ALLOW_PLAINTEXT_LISTENER=yes \\\n",
    "    -e KAFKA_CFG_ZOOKEEPER_CONNECT=zookeeper-server:2181 \\\n",
    "    bitnami/kafka:latest < ~/.sudopassword"
   ]
  },
  {
   "cell_type": "markdown",
   "metadata": {},
   "source": [
    "## Step 4: Launch event-stream  instance"
   ]
  },
  {
   "cell_type": "code",
   "execution_count": 14,
   "metadata": {},
   "outputs": [
    {
     "name": "stdout",
     "output_type": "stream",
     "text": [
      "[sudo] password for kalinga: Sending build context to Docker daemon  48.64kB\n",
      "Step 1/8 : FROM python:3\n",
      " ---> b162b5322f1c\n",
      "Step 2/8 : LABEL Author=\"Kalinga Bhusan Ray\"\n",
      " ---> Using cache\n",
      " ---> 55e95b0d90db\n",
      "Step 3/8 : LABEL E-Mail=\"kalinga-bhusan.ray@tu-ilmenau.de\"\n",
      " ---> Using cache\n",
      " ---> 5e490150ac8b\n",
      "Step 4/8 : LABEL Desc=\"This is an image for event stream engiene\"\n",
      " ---> Using cache\n",
      " ---> 430a9dc7ecdd\n",
      "Step 5/8 : RUN apt-get update &&     apt-get install -y vim\n",
      " ---> Using cache\n",
      " ---> 63f97c80a8c5\n",
      "Step 6/8 : ADD process_event_stream.py /\n",
      " ---> 5fe0c6805f34\n",
      "Step 7/8 : RUN pip install faust typing_extensions\n",
      " ---> Running in 391f5d04fc59\n",
      "Collecting faust\n",
      "  Downloading https://files.pythonhosted.org/packages/3a/70/ee7389822b00463435adf8b6a7bad0f011cc088cbbc3d7ab9f7e06402075/faust-1.9.0-py2.py3-none-any.whl (312kB)\n",
      "Collecting typing_extensions\n",
      "  Downloading https://files.pythonhosted.org/packages/03/92/705fe8aca27678e01bbdd7738173b8e7df0088a2202c80352f664630d638/typing_extensions-3.7.4.1-py3-none-any.whl\n",
      "Collecting opentracing<2.0.0,>=1.3.0\n",
      "  Downloading https://files.pythonhosted.org/packages/06/c2/90b35a1abdc639a5c6000d8202c70217d60e80f5b328870efb73fda71115/opentracing-1.3.0.tar.gz\n",
      "Collecting mode<4.2,>=4.1.3\n",
      "  Downloading https://files.pythonhosted.org/packages/3d/ae/d97c7ec0e75661071005ae8c8183ad6a7e8d94dd3f16aaeec578c9acdabc/mode-4.1.6-py2.py3-none-any.whl (98kB)\n",
      "Collecting aiohttp-cors<2.0,>=0.7\n",
      "  Downloading https://files.pythonhosted.org/packages/13/e7/e436a0c0eb5127d8b491a9b83ecd2391c6ff7dcd5548dfaec2080a2340fd/aiohttp_cors-0.7.0-py3-none-any.whl\n",
      "Collecting mypy-extensions\n",
      "  Downloading https://files.pythonhosted.org/packages/5c/eb/975c7c080f3223a5cdaff09612f3a5221e4ba534f7039db34c35d95fa6a5/mypy_extensions-0.4.3-py2.py3-none-any.whl\n",
      "Collecting colorclass<3.0,>=2.2\n",
      "  Downloading https://files.pythonhosted.org/packages/37/ea/ae8dbb956939d4392e6a7fdef87fda273854da1128edae016c4104240be8/colorclass-2.2.0.tar.gz\n",
      "Collecting yarl<2.0,>=1.0\n",
      "  Downloading https://files.pythonhosted.org/packages/96/26/8041d6a06596b60d3fafd3ea48be37c7fff01a45f5fdab05ce61bf73ad17/yarl-1.4.2-cp38-cp38-manylinux1_x86_64.whl (253kB)\n",
      "Collecting robinhood-aiokafka<1.2,>=1.1.3\n",
      "  Downloading https://files.pythonhosted.org/packages/34/a8/2ba8cb13ac9ceddda3fd803ba3f4cac9d5753aa53f35cd697af47392bc5b/robinhood_aiokafka-1.1.3-py3-none-any.whl (138kB)\n",
      "Collecting terminaltables<4.0,>=3.1\n",
      "  Downloading https://files.pythonhosted.org/packages/9b/c4/4a21174f32f8a7e1104798c445dacdc1d4df86f2f26722767034e4de4bff/terminaltables-3.1.0.tar.gz\n",
      "Collecting croniter>=0.3.16\n",
      "  Downloading https://files.pythonhosted.org/packages/c8/4c/04dea44f87b963d5c3f2bbc391e6c69d0a14aa896e35590be56213a04e4f/croniter-0.3.30-py2.py3-none-any.whl\n",
      "Collecting venusian<2.0,>=1.1\n",
      "  Downloading https://files.pythonhosted.org/packages/21/80/8e2ac4aef69e927754277d29636b65eceb4767e9da90a2c3046c4176184a/venusian-1.2.0-py2.py3-none-any.whl\n",
      "Collecting click<8.0,>=6.7\n",
      "  Downloading https://files.pythonhosted.org/packages/fa/37/45185cb5abbc30d7257104c434fe0b07e5a195a6847506c074527aa599ec/Click-7.0-py2.py3-none-any.whl (81kB)\n",
      "Collecting aiohttp<4.0,>=3.5.2\n",
      "  Downloading https://files.pythonhosted.org/packages/c2/f7/f0ad3dbace4762fef5d80aa4124b41bf218e4c4dd6d387a86cede707d9a4/aiohttp-3.6.2-py3-none-any.whl (441kB)\n",
      "Collecting colorlog>=2.9.0\n",
      "  Downloading https://files.pythonhosted.org/packages/68/4d/892728b0c14547224f0ac40884e722a3d00cb54e7a146aea0b3186806c9e/colorlog-4.0.2-py2.py3-none-any.whl\n",
      "Collecting multidict>=4.0\n",
      "  Downloading https://files.pythonhosted.org/packages/c1/b2/b83f3454347653cec3549d442e9e81f71cbce75f256cecee3e242611f551/multidict-4.7.3-cp38-cp38-manylinux1_x86_64.whl (161kB)\n",
      "Collecting idna>=2.0\n",
      "  Downloading https://files.pythonhosted.org/packages/14/2c/cd551d81dbe15200be1cf41cd03869a46fe7226e7450af7a6545bfc474c9/idna-2.8-py2.py3-none-any.whl (58kB)\n",
      "Collecting kafka-python<1.5,>=1.4.6\n",
      "  Downloading https://files.pythonhosted.org/packages/49/c9/9863483a1353700ba87821b4f39085eb18fd1bcbb1e954c697177d67f03f/kafka_python-1.4.7-py2.py3-none-any.whl (266kB)\n",
      "Collecting python-dateutil\n",
      "  Downloading https://files.pythonhosted.org/packages/d4/70/d60450c3dd48ef87586924207ae8907090de0b306af2bce5d134d78615cb/python_dateutil-2.8.1-py2.py3-none-any.whl (227kB)\n",
      "Collecting async-timeout<4.0,>=3.0\n",
      "  Downloading https://files.pythonhosted.org/packages/e1/1e/5a4441be21b0726c4464f3f23c8b19628372f606755a9d2e46c187e65ec4/async_timeout-3.0.1-py3-none-any.whl\n",
      "Collecting attrs>=17.3.0\n",
      "  Downloading https://files.pythonhosted.org/packages/a2/db/4313ab3be961f7a763066401fb77f7748373b6094076ae2bda2806988af6/attrs-19.3.0-py2.py3-none-any.whl\n",
      "Collecting chardet<4.0,>=2.0\n",
      "  Downloading https://files.pythonhosted.org/packages/bc/a9/01ffebfb562e4274b6487b4bb1ddec7ca55ec7510b22e4c51f14098443b8/chardet-3.0.4-py2.py3-none-any.whl (133kB)\n",
      "Collecting six>=1.5\n",
      "  Downloading https://files.pythonhosted.org/packages/65/26/32b8464df2a97e6dd1b656ed26b2c194606c16fe163c695a992b36c11cdf/six-1.13.0-py2.py3-none-any.whl\n",
      "Building wheels for collected packages: opentracing, colorclass, terminaltables\n",
      "  Building wheel for opentracing (setup.py): started\n",
      "  Building wheel for opentracing (setup.py): finished with status 'done'\n",
      "  Created wheel for opentracing: filename=opentracing-1.3.0-cp38-none-any.whl size=18449 sha256=86cc0f8b5890e3820f13b5a34c9aafdb81b548ff5f1e78fa1647fad379c858f4\n",
      "  Stored in directory: /root/.cache/pip/wheels/5a/c7/a8/55354b8928b16dafbcd73fb8fc33d7d55cf61ed0845b912ec8\n",
      "  Building wheel for colorclass (setup.py): started\n",
      "  Building wheel for colorclass (setup.py): finished with status 'done'\n",
      "  Created wheel for colorclass: filename=colorclass-2.2.0-cp38-none-any.whl size=19398 sha256=7fd4751e07e51809114e8b22fc706acfdf50f344c7d576ce0e734424fe848c61\n",
      "  Stored in directory: /root/.cache/pip/wheels/d1/86/9d/16127127306a92d7fd30267890a5634026c045391979c4c317\n",
      "  Building wheel for terminaltables (setup.py): started\n",
      "  Building wheel for terminaltables (setup.py): finished with status 'done'\n",
      "  Created wheel for terminaltables: filename=terminaltables-3.1.0-cp38-none-any.whl size=15355 sha256=5a2911a3940a94aba90d330ef0b62b699e1faf5175f06ec9e7c562de828d9707\n",
      "  Stored in directory: /root/.cache/pip/wheels/30/6b/50/6c75775b681fb36cdfac7f19799888ef9d8813aff9e379663e\n",
      "Successfully built opentracing colorclass terminaltables\n",
      "Installing collected packages: opentracing, colorlog, mypy-extensions, mode, async-timeout, attrs, multidict, idna, yarl, chardet, aiohttp, aiohttp-cors, colorclass, kafka-python, robinhood-aiokafka, terminaltables, six, python-dateutil, croniter, venusian, click, faust, typing-extensions\n",
      "Successfully installed aiohttp-3.6.2 aiohttp-cors-0.7.0 async-timeout-3.0.1 attrs-19.3.0 chardet-3.0.4 click-7.0 colorclass-2.2.0 colorlog-4.0.2 croniter-0.3.30 faust-1.9.0 idna-2.8 kafka-python-1.4.7 mode-4.1.6 multidict-4.7.3 mypy-extensions-0.4.3 opentracing-1.3.0 python-dateutil-2.8.1 robinhood-aiokafka-1.1.3 six-1.13.0 terminaltables-3.1.0 typing-extensions-3.7.4.1 venusian-1.2.0 yarl-1.4.2\n",
      "Removing intermediate container 391f5d04fc59\n",
      " ---> 003cdf72c742\n",
      "Step 8/8 : EXPOSE 80\n",
      " ---> Running in 281712d1c494\n",
      "Removing intermediate container 281712d1c494\n",
      " ---> eba5d20050ba\n",
      "Successfully built eba5d20050ba\n",
      "Successfully tagged kalinga/event-stream:v0.1\n"
     ]
    }
   ],
   "source": [
    "!sudo -S docker build -t kalinga/event-stream:v0.1 . < ~/.sudopassword"
   ]
  },
  {
   "cell_type": "code",
   "execution_count": 15,
   "metadata": {},
   "outputs": [
    {
     "name": "stdout",
     "output_type": "stream",
     "text": [
      "[sudo] password for kalinga: 4b9aeb32828f2ee72ec80df79a5e0e3c87f4ad7e00b1d479094e30da55a03f5b\n"
     ]
    }
   ],
   "source": [
    "!sudo -S docker run -d \\\n",
    "                -it  \\\n",
    "                --name event-stream \\\n",
    "                --mount type=bind,source=\"$(pwd)\"/.,target=/app \\\n",
    "                --network app-tier \\\n",
    "                kalinga/event-stream:v0.1 /bin/bash < ~/.sudopassword    "
   ]
  },
  {
   "cell_type": "code",
   "execution_count": 16,
   "metadata": {},
   "outputs": [
    {
     "name": "stdout",
     "output_type": "stream",
     "text": [
      "[sudo] password for kalinga: CONTAINER ID        IMAGE                       COMMAND                  CREATED              STATUS                  PORTS                                    NAMES\n",
      "4b9aeb32828f        kalinga/event-stream:v0.1   \"/bin/bash\"              5 seconds ago        Up Less than a second   80/tcp                                   event-stream\n",
      "502b6f7dadd2        bitnami/kafka:latest        \"/entrypoint.sh /run…\"   About a minute ago   Up About a minute       9092/tcp                                 kafka-server\n",
      "c17d29a77436        bitnami/zookeeper:latest    \"/entrypoint.sh /run…\"   About a minute ago   Up About a minute       2181/tcp, 2888/tcp, 3888/tcp, 8080/tcp   zookeeper-server\n"
     ]
    }
   ],
   "source": [
    "!sudo -S docker ps  < ~/.sudopassword"
   ]
  },
  {
   "cell_type": "code",
   "execution_count": 17,
   "metadata": {},
   "outputs": [
    {
     "name": "stdout",
     "output_type": "stream",
     "text": [
      "containerFS\t    operations\t\t     README.md\t\t    unit-test-1\r\n",
      "Dockerfile\t    process_event_stream.py  stream-event-app-data  unit-test-2\r\n",
      "event-stream.ipynb  __pycache__\t\t     test.py\r\n"
     ]
    }
   ],
   "source": [
    "!ls"
   ]
  },
  {
   "cell_type": "markdown",
   "metadata": {},
   "source": [
    "### For existing containers (During development after restarting the host machine)"
   ]
  },
  {
   "cell_type": "code",
   "execution_count": 1,
   "metadata": {},
   "outputs": [
    {
     "name": "stdout",
     "output_type": "stream",
     "text": [
      "[sudo] password for kalinga: /zookeeper-server\n",
      "[sudo] password for kalinga: /kafka-server\n",
      "[sudo] password for kalinga: /event-stream\n"
     ]
    }
   ],
   "source": [
    "!sudo -S docker start /zookeeper-server < ~/.sudopassword\n",
    "!sudo -S docker start /kafka-server < ~/.sudopassword\n",
    "!sudo -S docker start /event-stream < ~/.sudopassword"
   ]
  },
  {
   "cell_type": "code",
   "execution_count": 3,
   "metadata": {},
   "outputs": [
    {
     "name": "stdout",
     "output_type": "stream",
     "text": [
      "[sudo] password for kalinga: CONTAINER ID        IMAGE                       COMMAND                  CREATED             STATUS              PORTS                                    NAMES\n",
      "f1966e227cf6        kalinga/event-stream:v0.1   \"/bin/bash\"              31 hours ago        Up 15 seconds       80/tcp                                   event-stream\n",
      "91792eec8d10        bitnami/kafka:latest        \"/entrypoint.sh /run…\"   31 hours ago        Up 24 seconds       9092/tcp                                 kafka-server\n",
      "27f4dbfafd0d        bitnami/zookeeper:latest    \"/entrypoint.sh /run…\"   31 hours ago        Up 28 seconds       2181/tcp, 2888/tcp, 3888/tcp, 8080/tcp   zookeeper-server\n"
     ]
    }
   ],
   "source": [
    "!sudo -S docker ps < ~/.sudopassword"
   ]
  },
  {
   "cell_type": "markdown",
   "metadata": {},
   "source": [
    "#### [In separate terminals]\n",
    "docker exec -it event-stream bash\n",
    "cd app\n",
    "faust -A process_event_stream worker -l info \n",
    "\n",
    "docker exec -it kafka-server bash  \n",
    "kafka-console-producer.sh --broker-list 127.0.0.1:9092 --topic transaction --producer.config /opt/bitnami/kafka/conf/producer.properties\n"
   ]
  },
  {
   "cell_type": "markdown",
   "metadata": {},
   "source": [
    "## Step 5: Unit tests"
   ]
  },
  {
   "cell_type": "code",
   "execution_count": 18,
   "metadata": {},
   "outputs": [
    {
     "name": "stdout",
     "output_type": "stream",
     "text": [
      "[sudo] password for kalinga: "
     ]
    }
   ],
   "source": [
    "!sudo -S docker cp unit-test-1 kafka-server:/ < ~/.sudopassword"
   ]
  },
  {
   "cell_type": "code",
   "execution_count": 19,
   "metadata": {},
   "outputs": [
    {
     "name": "stdout",
     "output_type": "stream",
     "text": [
      "[sudo] password for kalinga: "
     ]
    }
   ],
   "source": [
    "!sudo -S docker cp unit-test-2 kafka-server:/ < ~/.sudopassword"
   ]
  },
  {
   "cell_type": "markdown",
   "metadata": {},
   "source": [
    "[kafka-server terminal]  \n",
    "kafka-console-producer.sh --broker-list 127.0.0.1:9092 --topic transaction --producer.config /opt/bitnami/kafka/conf/producer.properties < unit-test-1\n"
   ]
  },
  {
   "cell_type": "code",
   "execution_count": null,
   "metadata": {},
   "outputs": [],
   "source": [
    "kafka-console-producer.sh --broker-list 127.0.0.1:9092 --topic transaction --producer.config /opt/bitnami/kafka/conf/producer.properties < unit-test-1"
   ]
  },
  {
   "cell_type": "markdown",
   "metadata": {},
   "source": [
    "### Step 6: Extend the requirements"
   ]
  },
  {
   "cell_type": "code",
   "execution_count": null,
   "metadata": {},
   "outputs": [],
   "source": []
  },
  {
   "cell_type": "markdown",
   "metadata": {},
   "source": [
    "#### Development shortcuts"
   ]
  },
  {
   "cell_type": "code",
   "execution_count": 7,
   "metadata": {},
   "outputs": [
    {
     "name": "stdout",
     "output_type": "stream",
     "text": [
      "[sudo] password for kalinga: db971051eb54966f51e53d7a1759410614a1f8cc75983b362ee06768ae146a34\n"
     ]
    }
   ],
   "source": [
    "!sudo -S docker run -d \\\n",
    "                -it  \\\n",
    "                --name event-stream \\\n",
    "                --mount type=bind,source=\"$(pwd)\"/.,target=/app \\\n",
    "                --network app-tier \\\n",
    "                kalinga/event-stream:v0.1 /bin/bash < ~/.sudopassword    "
   ]
  },
  {
   "cell_type": "code",
   "execution_count": 4,
   "metadata": {},
   "outputs": [],
   "source": [
    "#!sudo -S docker container ls --all < ~/.sudopassword"
   ]
  },
  {
   "cell_type": "code",
   "execution_count": null,
   "metadata": {},
   "outputs": [],
   "source": [
    "!sudo -S docker cp event-stream:/process_event_stream.py .  < ~/.sudopassword"
   ]
  },
  {
   "cell_type": "code",
   "execution_count": null,
   "metadata": {},
   "outputs": [],
   "source": [
    "!sudo -S chown kalinga:kalinga process_event_stream.py < ~/.sudopassword"
   ]
  },
  {
   "cell_type": "code",
   "execution_count": 2,
   "metadata": {},
   "outputs": [
    {
     "name": "stdout",
     "output_type": "stream",
     "text": [
      "[sudo] password for kalinga: event-stream\n"
     ]
    }
   ],
   "source": [
    "!sudo -S docker stop event-stream < ~/.sudopassword"
   ]
  },
  {
   "cell_type": "code",
   "execution_count": 6,
   "metadata": {},
   "outputs": [
    {
     "name": "stdout",
     "output_type": "stream",
     "text": [
      "[sudo] password for kalinga: /event-stream\n"
     ]
    }
   ],
   "source": [
    "!sudo -S docker rm /event-stream < ~/.sudopassword"
   ]
  },
  {
   "cell_type": "code",
   "execution_count": 8,
   "metadata": {},
   "outputs": [
    {
     "name": "stdout",
     "output_type": "stream",
     "text": [
      "[sudo] password for kalinga: /zookeeper-server\n",
      "[sudo] password for kalinga: /kafka-server\n",
      "[sudo] password for kalinga: \n"
     ]
    }
   ],
   "source": [
    "!sudo -S docker stop /zookeeper-server < ~/.sudopassword\n",
    "!sudo -S docker stop /kafka-server < ~/.sudopassword\n",
    "!sudo -S docker stop /event-stream < ~/.sudopassword"
   ]
  },
  {
   "cell_type": "code",
   "execution_count": null,
   "metadata": {},
   "outputs": [],
   "source": []
  }
 ],
 "metadata": {
  "kernelspec": {
   "display_name": "Python 3",
   "language": "python",
   "name": "python3"
  },
  "language_info": {
   "codemirror_mode": {
    "name": "ipython",
    "version": 3
   },
   "file_extension": ".py",
   "mimetype": "text/x-python",
   "name": "python",
   "nbconvert_exporter": "python",
   "pygments_lexer": "ipython3",
   "version": "3.7.3"
  }
 },
 "nbformat": 4,
 "nbformat_minor": 2
}
