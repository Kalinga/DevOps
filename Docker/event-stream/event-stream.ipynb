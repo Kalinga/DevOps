{
 "cells": [
  {
   "cell_type": "markdown",
   "metadata": {},
   "source": [
    "## Step 0: Install docker and place sudo password in ~/.sudopassword"
   ]
  },
  {
   "cell_type": "markdown",
   "metadata": {},
   "source": [
    "### Removed previous run containers"
   ]
  },
  {
   "cell_type": "code",
   "execution_count": 1,
   "metadata": {},
   "outputs": [
    {
     "name": "stdout",
     "output_type": "stream",
     "text": [
      "[sudo] password for kalinga: /zookeeper-server\n",
      "[sudo] password for kalinga: /kafka-server\n",
      "[sudo] password for kalinga: /event-stream\n",
      "[sudo] password for kalinga: app-tier\n"
     ]
    }
   ],
   "source": [
    "!sudo -S docker rm /zookeeper-server < ~/.sudopassword\n",
    "!sudo -S docker rm /kafka-server < ~/.sudopassword\n",
    "!sudo -S docker rm /event-stream < ~/.sudopassword\n",
    "!sudo -S docker network rm app-tier < ~/.sudopassword"
   ]
  },
  {
   "cell_type": "markdown",
   "metadata": {},
   "source": [
    "## Step 1: Create a network"
   ]
  },
  {
   "cell_type": "code",
   "execution_count": 2,
   "metadata": {},
   "outputs": [
    {
     "name": "stdout",
     "output_type": "stream",
     "text": [
      "[sudo] password for kalinga: d143c8de739b6bd53a30792618e9d80c2b3c30ec1a049c36563bec43262bc239\n"
     ]
    }
   ],
   "source": [
    "!sudo -S docker network create app-tier --driver bridge < ~/.sudopassword"
   ]
  },
  {
   "cell_type": "markdown",
   "metadata": {},
   "source": [
    "## Step 2: Launch the Zookeeper server instance"
   ]
  },
  {
   "cell_type": "code",
   "execution_count": 3,
   "metadata": {},
   "outputs": [
    {
     "name": "stdout",
     "output_type": "stream",
     "text": [
      "[sudo] password for kalinga: 27f4dbfafd0d122a95c9057af9cba8bfdf16171863a0ae2598c0c222cf124de7\n"
     ]
    }
   ],
   "source": [
    "!sudo -S  docker run -d --name zookeeper-server --network app-tier -e ALLOW_ANONYMOUS_LOGIN=yes bitnami/zookeeper:latest < ~/.sudopassword"
   ]
  },
  {
   "cell_type": "markdown",
   "metadata": {},
   "source": [
    "## Step 3: Launch the Kafka server instance"
   ]
  },
  {
   "cell_type": "code",
   "execution_count": 4,
   "metadata": {},
   "outputs": [
    {
     "name": "stdout",
     "output_type": "stream",
     "text": [
      "[sudo] password for kalinga: 91792eec8d1096d05a7cc169771ff0dc2d47ea44057098337566797f6304c89a\n"
     ]
    }
   ],
   "source": [
    "!sudo -S docker run -d --name kafka-server \\\n",
    "    --network app-tier \\\n",
    "    -e ALLOW_PLAINTEXT_LISTENER=yes \\\n",
    "    -e KAFKA_CFG_ZOOKEEPER_CONNECT=zookeeper-server:2181 \\\n",
    "    bitnami/kafka:latest < ~/.sudopassword"
   ]
  },
  {
   "cell_type": "markdown",
   "metadata": {},
   "source": [
    "## Step 4: Launch event-stream  instance"
   ]
  },
  {
   "cell_type": "code",
   "execution_count": 5,
   "metadata": {},
   "outputs": [
    {
     "name": "stdout",
     "output_type": "stream",
     "text": [
      "[sudo] password for kalinga: Sending build context to Docker daemon  32.77kB\n",
      "Step 1/8 : FROM python:3\n",
      " ---> b162b5322f1c\n",
      "Step 2/8 : LABEL Author=\"Kalinga Bhusan Ray\"\n",
      " ---> Using cache\n",
      " ---> 55e95b0d90db\n",
      "Step 3/8 : LABEL E-Mail=\"kalinga-bhusan.ray@tu-ilmenau.de\"\n",
      " ---> Using cache\n",
      " ---> 5e490150ac8b\n",
      "Step 4/8 : LABEL Desc=\"This is an image for event stream engiene\"\n",
      " ---> Using cache\n",
      " ---> 430a9dc7ecdd\n",
      "Step 5/8 : RUN apt-get update &&     apt-get install -y vim\n",
      " ---> Using cache\n",
      " ---> 63f97c80a8c5\n",
      "Step 6/8 : ADD process_event_stream.py /\n",
      " ---> f32f865fd6c7\n",
      "Step 7/8 : RUN pip install faust typing_extensions\n",
      " ---> Running in ceb63eb8499e\n",
      "\u001b[91mWARNING: Retrying (Retry(total=4, connect=None, read=None, redirect=None, status=None)) after connection broken by 'NewConnectionError('<pip._vendor.urllib3.connection.VerifiedHTTPSConnection object at 0x7f5b0a63b310>: Failed to establish a new connection: [Errno -3] Temporary failure in name resolution')': /simple/faust/\n",
      "\u001b[0m\u001b[91mWARNING: Retrying (Retry(total=3, connect=None, read=None, redirect=None, status=None)) after connection broken by 'NewConnectionError('<pip._vendor.urllib3.connection.VerifiedHTTPSConnection object at 0x7f5b0ae186d0>: Failed to establish a new connection: [Errno -3] Temporary failure in name resolution')': /simple/faust/\n",
      "\u001b[0m\u001b[91mWARNING: Retrying (Retry(total=2, connect=None, read=None, redirect=None, status=None)) after connection broken by 'NewConnectionError('<pip._vendor.urllib3.connection.VerifiedHTTPSConnection object at 0x7f5b0ae18e20>: Failed to establish a new connection: [Errno -3] Temporary failure in name resolution')': /simple/faust/\n",
      "\u001b[0m\u001b[91mWARNING: Retrying (Retry(total=1, connect=None, read=None, redirect=None, status=None)) after connection broken by 'NewConnectionError('<pip._vendor.urllib3.connection.VerifiedHTTPSConnection object at 0x7f5b0ae18e50>: Failed to establish a new connection: [Errno -3] Temporary failure in name resolution')': /simple/faust/\n",
      "\u001b[0m\u001b[91mWARNING: Retrying (Retry(total=0, connect=None, read=None, redirect=None, status=None)) after connection broken by 'NewConnectionError('<pip._vendor.urllib3.connection.VerifiedHTTPSConnection object at 0x7f5b0ae18a90>: Failed to establish a new connection: [Errno -3] Temporary failure in name resolution')': /simple/faust/\n",
      "\u001b[0m\u001b[91mERROR: Could not find a version that satisfies the requirement faust (from versions: none)\n",
      "\u001b[0m\u001b[91mERROR: No matching distribution found for faust\n",
      "\u001b[0mThe command '/bin/sh -c pip install faust typing_extensions' returned a non-zero code: 1\n"
     ]
    }
   ],
   "source": [
    "!sudo -S docker build -t kalinga/event-stream:v0.1 . < ~/.sudopassword"
   ]
  },
  {
   "cell_type": "code",
   "execution_count": 6,
   "metadata": {},
   "outputs": [
    {
     "name": "stdout",
     "output_type": "stream",
     "text": [
      "[sudo] password for kalinga: f1966e227cf64206c15354231fd02ea8ae6f1cfda89122006cc9dc75ef247b97\n"
     ]
    }
   ],
   "source": [
    "!sudo -S docker run -it -d --name event-stream \\\n",
    "    --network app-tier \\\n",
    "    kalinga/event-stream:v0.1 /bin/bash < ~/.sudopassword"
   ]
  },
  {
   "cell_type": "code",
   "execution_count": 7,
   "metadata": {},
   "outputs": [
    {
     "name": "stdout",
     "output_type": "stream",
     "text": [
      "[sudo] password for kalinga: CONTAINER ID        IMAGE                       COMMAND                  CREATED             STATUS              PORTS                                    NAMES\n",
      "f1966e227cf6        kalinga/event-stream:v0.1   \"/bin/bash\"              14 seconds ago      Up 1 second         80/tcp                                   event-stream\n",
      "91792eec8d10        bitnami/kafka:latest        \"/entrypoint.sh /run…\"   3 minutes ago       Up 3 minutes        9092/tcp                                 kafka-server\n",
      "27f4dbfafd0d        bitnami/zookeeper:latest    \"/entrypoint.sh /run…\"   3 minutes ago       Up 3 minutes        2181/tcp, 2888/tcp, 3888/tcp, 8080/tcp   zookeeper-server\n"
     ]
    }
   ],
   "source": [
    "!sudo -S docker ps  < ~/.sudopassword"
   ]
  },
  {
   "cell_type": "code",
   "execution_count": 8,
   "metadata": {},
   "outputs": [
    {
     "name": "stdout",
     "output_type": "stream",
     "text": [
      "Dockerfile\t    operations\t\t     README.md\tunit-test-1\r\n",
      "event-stream.ipynb  process_event_stream.py  test.py\r\n"
     ]
    }
   ],
   "source": [
    "!ls"
   ]
  },
  {
   "cell_type": "markdown",
   "metadata": {},
   "source": [
    "### For existing containers"
   ]
  },
  {
   "cell_type": "code",
   "execution_count": 2,
   "metadata": {},
   "outputs": [
    {
     "name": "stdout",
     "output_type": "stream",
     "text": [
      "[sudo] password for kalinga: /zookeeper-server\n",
      "[sudo] password for kalinga: /kafka-server\n",
      "[sudo] password for kalinga: /event-stream\n"
     ]
    }
   ],
   "source": [
    "!sudo -S docker start /zookeeper-server < ~/.sudopassword\n",
    "!sudo -S docker start /kafka-server < ~/.sudopassword\n",
    "!sudo -S docker start /event-stream < ~/.sudopassword"
   ]
  },
  {
   "cell_type": "code",
   "execution_count": 3,
   "metadata": {},
   "outputs": [
    {
     "name": "stdout",
     "output_type": "stream",
     "text": [
      "[sudo] password for kalinga: CONTAINER ID        IMAGE                       COMMAND                  CREATED             STATUS              PORTS                                    NAMES\n",
      "f1966e227cf6        kalinga/event-stream:v0.1   \"/bin/bash\"              31 hours ago        Up 15 seconds       80/tcp                                   event-stream\n",
      "91792eec8d10        bitnami/kafka:latest        \"/entrypoint.sh /run…\"   31 hours ago        Up 24 seconds       9092/tcp                                 kafka-server\n",
      "27f4dbfafd0d        bitnami/zookeeper:latest    \"/entrypoint.sh /run…\"   31 hours ago        Up 28 seconds       2181/tcp, 2888/tcp, 3888/tcp, 8080/tcp   zookeeper-server\n"
     ]
    }
   ],
   "source": [
    "!sudo -S docker ps < ~/.sudopassword"
   ]
  },
  {
   "cell_type": "markdown",
   "metadata": {},
   "source": [
    "#### [In separate terminals]\n",
    "docker exec -it event-stream bash \n",
    "faust -A process_event_stream worker -l info \n",
    "\n",
    "docker exec -it kafka-server bash  \n",
    "kafka-console-producer.sh --broker-list 127.0.0.1:9092 --topic transaction --producer.config /opt/bitnami/kafka/conf/producer.properties\n"
   ]
  },
  {
   "cell_type": "code",
   "execution_count": 5,
   "metadata": {},
   "outputs": [
    {
     "name": "stdout",
     "output_type": "stream",
     "text": [
      "[sudo] password for kalinga: "
     ]
    }
   ],
   "source": [
    "!sudo -S docker cp event-stream:/process_event_stream.py . < ~/.sudopassword"
   ]
  },
  {
   "cell_type": "code",
   "execution_count": 9,
   "metadata": {},
   "outputs": [],
   "source": [
    "#!sudo -S docker container ls --all < ~/.sudopassword"
   ]
  },
  {
   "cell_type": "markdown",
   "metadata": {},
   "source": [
    "## Step 5: Unit tests"
   ]
  },
  {
   "cell_type": "code",
   "execution_count": 4,
   "metadata": {},
   "outputs": [
    {
     "name": "stdout",
     "output_type": "stream",
     "text": [
      "[sudo] password for kalinga: "
     ]
    }
   ],
   "source": [
    "!sudo -S docker cp unit-test-1 kafka-server:/ < ~/.sudopassword"
   ]
  },
  {
   "cell_type": "code",
   "execution_count": null,
   "metadata": {},
   "outputs": [],
   "source": [
    "!sudo -S docker cp unit-test-2 kafka-server:/ < ~/.sudopassword"
   ]
  },
  {
   "cell_type": "markdown",
   "metadata": {},
   "source": [
    "[kafka-server terminal]  \n",
    "kafka-console-producer.sh --broker-list 127.0.0.1:9092 --topic transaction --producer.config /opt/bitnami/kafka/conf/producer.properties < unit-test-1\n"
   ]
  },
  {
   "cell_type": "code",
   "execution_count": null,
   "metadata": {},
   "outputs": [],
   "source": []
  }
 ],
 "metadata": {
  "kernelspec": {
   "display_name": "Python 3",
   "language": "python",
   "name": "python3"
  },
  "language_info": {
   "codemirror_mode": {
    "name": "ipython",
    "version": 3
   },
   "file_extension": ".py",
   "mimetype": "text/x-python",
   "name": "python",
   "nbconvert_exporter": "python",
   "pygments_lexer": "ipython3",
   "version": "3.7.3"
  }
 },
 "nbformat": 4,
 "nbformat_minor": 2
}
